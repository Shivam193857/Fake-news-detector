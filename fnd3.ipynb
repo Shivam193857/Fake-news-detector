{
  "cells": [
    {
      "cell_type": "code",
      "execution_count": 3,
      "metadata": {
        "colab": {
          "base_uri": "https://localhost:8080/"
        },
        "id": "iWe5DpMUXwrX",
        "outputId": "7ec4c7f1-77dc-4815-de13-cffca1819e84"
      },
      "outputs": [
        {
          "name": "stdout",
          "output_type": "stream",
          "text": [
            "id           0\n",
            "title      558\n",
            "author    1957\n",
            "text        39\n",
            "label        0\n",
            "dtype: int64\n",
            "id        0\n",
            "title     0\n",
            "author    0\n",
            "text      0\n",
            "label     0\n",
            "dtype: int64\n",
            "0        House Dem Aide: We Didn’t Even See Comey’s Let...\n",
            "1        FLYNN: Hillary Clinton, Big Woman on Campus - ...\n",
            "2        Why the Truth Might Get You Fired Why the Trut...\n",
            "3        15 Civilians Killed In Single US Airstrike Hav...\n",
            "4        Iranian woman jailed for fictional unpublished...\n",
            "                               ...                        \n",
            "20795    Rapper T.I.: Trump a ’Poster Child For White S...\n",
            "20796    N.F.L. Playoffs: Schedule, Matchups and Odds -...\n",
            "20797    Macy’s Is Said to Receive Takeover Approach by...\n",
            "20798    NATO, Russia To Hold Parallel Exercises In Bal...\n",
            "20799    What Keeps the F-35 Alive   David Swanson is a...\n",
            "Name: training_feature, Length: 20800, dtype: object\n",
            "0        1\n",
            "1        0\n",
            "2        1\n",
            "3        1\n",
            "4        1\n",
            "        ..\n",
            "20795    0\n",
            "20796    0\n",
            "20797    0\n",
            "20798    1\n",
            "20799    1\n",
            "Name: label, Length: 20800, dtype: int64\n"
          ]
        }
      ],
      "source": [
        "import pandas as pd\n",
        "dataframe=pd.read_csv(\"D:\\minorproject\\William Lifferth fake news.csv\")\n",
        "# dataframe.head()\n",
        "# dataframe.shape\n",
        "print(dataframe.isnull().sum())\n",
        "dataframe=dataframe.fillna('')\n",
        "print(dataframe.isnull().sum())\n",
        "dataframe['training_feature']=dataframe['title']+' '+dataframe['text']\n",
        "# dataframe.head()\n",
        "X=dataframe['training_feature']\n",
        "Y=dataframe['label']\n",
        "print(X)\n",
        "print(Y)"
      ]
    },
    {
      "cell_type": "code",
      "execution_count": 5,
      "metadata": {
        "colab": {
          "base_uri": "https://localhost:8080/"
        },
        "id": "gt2n2owqYejv",
        "outputId": "e31dbc50-09e0-476e-eb32-0494fb464884"
      },
      "outputs": [
        {
          "name": "stderr",
          "output_type": "stream",
          "text": [
            "[nltk_data] Error loading stopwords: <urlopen error [Errno 11001]\n",
            "[nltk_data]     getaddrinfo failed>\n"
          ]
        },
        {
          "name": "stdout",
          "output_type": "stream",
          "text": [
            "0        hous dem aid even see comey letter jason chaff...\n",
            "1        flynn hillari clinton big woman campu breitbar...\n",
            "2        truth might get fire truth might get fire octo...\n",
            "3        civilian kill singl us airstrik identifi video...\n",
            "4        iranian woman jail fiction unpublish stori wom...\n",
            "                               ...                        \n",
            "20795    rapper trump poster child white supremaci rapp...\n",
            "20796    n f l playoff schedul matchup odd new york tim...\n",
            "20797    maci said receiv takeov approach hudson bay ne...\n",
            "20798    nato russia hold parallel exercis balkan nato ...\n",
            "20799    keep f aliv david swanson author activist jour...\n",
            "Name: training_feature, Length: 20800, dtype: object\n"
          ]
        }
      ],
      "source": [
        "import re\n",
        "from nltk.corpus import stopwords\n",
        "from nltk.stem.porter import PorterStemmer\n",
        "import nltk\n",
        "nltk.download('stopwords')\n",
        "\n",
        "ps=PorterStemmer()\n",
        "\n",
        "def preprocess(sentence):\n",
        "  sentence=re.sub('[^a-zA-Z]',' ',sentence)\n",
        "  sentence=sentence.lower()\n",
        "  sentence=sentence.split()\n",
        "  stemmed_sentence=[ps.stem(word)for word in sentence if not word in stopwords.words('english')]\n",
        "  preprocessed_sentence=' '.join(stemmed_sentence)\n",
        "  return preprocessed_sentence\n",
        "\n",
        "X=X.apply(preprocess)\n",
        "print(X)"
      ]
    },
    {
      "cell_type": "code",
      "execution_count": 11,
      "metadata": {
        "colab": {
          "base_uri": "https://localhost:8080/"
        },
        "id": "XS_z9uYsYt9I",
        "outputId": "75b60217-3ce0-4f0e-f5df-d13e39d425c8"
      },
      "outputs": [
        {
          "name": "stdout",
          "output_type": "stream",
          "text": [
            "  (0, 109030)\t0.04990609083545967\n",
            "  (0, 61077)\t0.04733994299009337\n",
            "  (0, 14059)\t0.021479648819946892\n",
            "  (0, 18169)\t0.024670506666706407\n",
            "  (0, 31959)\t0.018823626046071528\n",
            "  (0, 19677)\t0.039485440204402734\n",
            "  (0, 22744)\t0.05038290041671438\n",
            "  (0, 34247)\t0.012466755521272091\n",
            "  (0, 66178)\t0.03962733135359451\n",
            "  (0, 59489)\t0.027089151870951924\n",
            "  (0, 97401)\t0.014689625986990777\n",
            "  (0, 518)\t0.023324050777647206\n",
            "  (0, 94446)\t0.022990025311948138\n",
            "  (0, 45916)\t0.01785625556098902\n",
            "  (0, 89115)\t0.02694181691592335\n",
            "  (0, 85606)\t0.027728945289248585\n",
            "  (0, 92189)\t0.01706662489569371\n",
            "  (0, 24442)\t0.024260845677356577\n",
            "  (0, 55681)\t0.01981266540299985\n",
            "  (0, 101044)\t0.03865106128681813\n",
            "  (0, 17335)\t0.04778996002075602\n",
            "  (0, 16459)\t0.03893477870161586\n",
            "  (0, 67348)\t0.031051480679692156\n",
            "  (0, 93669)\t0.026127006286347093\n",
            "  (0, 18797)\t0.021006420206445185\n",
            "  :\t:\n",
            "  (20799, 44005)\t0.013968784454731665\n",
            "  (20799, 95366)\t0.04000002006283426\n",
            "  (20799, 33487)\t0.05205947633788345\n",
            "  (20799, 58402)\t0.01303527441198735\n",
            "  (20799, 38787)\t0.014716825297239071\n",
            "  (20799, 80579)\t0.02117309122373927\n",
            "  (20799, 38856)\t0.022548096602410406\n",
            "  (20799, 100396)\t0.012704196196496056\n",
            "  (20799, 65959)\t0.05124995363914055\n",
            "  (20799, 107945)\t0.029920972529066375\n",
            "  (20799, 108977)\t0.03363559453860881\n",
            "  (20799, 54888)\t0.027096603168621437\n",
            "  (20799, 46407)\t0.017030606443996312\n",
            "  (20799, 59928)\t0.029439939956409\n",
            "  (20799, 56342)\t0.013804108520725389\n",
            "  (20799, 15372)\t0.02561501459174361\n",
            "  (20799, 56861)\t0.012088145171253619\n",
            "  (20799, 3028)\t0.05034206677336347\n",
            "  (20799, 25460)\t0.043382290689135586\n",
            "  (20799, 107982)\t0.05526270659489186\n",
            "  (20799, 69324)\t0.01539432353807733\n",
            "  (20799, 86698)\t0.010964241819327694\n",
            "  (20799, 31222)\t0.03740714011173872\n",
            "  (20799, 1877)\t0.03394876660811333\n",
            "  (20799, 43939)\t0.035919251444525936\n"
          ]
        }
      ],
      "source": [
        "from sklearn.feature_extraction.text import TfidfVectorizer\n",
        "vectorizer=TfidfVectorizer()\n",
        "X=vectorizer.fit_transform(X)\n",
        "\n",
        "print(X)"
      ]
    },
    {
      "cell_type": "code",
      "execution_count": null,
      "metadata": {
        "colab": {
          "base_uri": "https://localhost:8080/",
          "height": 52
        },
        "id": "HpwTOzvoZhMt",
        "outputId": "cd467305-0789-4776-a90b-e0f526bf7739"
      },
      "outputs": [
        {
          "data": {
            "application/javascript": "\n    async function download(id, filename, size) {\n      if (!google.colab.kernel.accessAllowed) {\n        return;\n      }\n      const div = document.createElement('div');\n      const label = document.createElement('label');\n      label.textContent = `Downloading \"${filename}\": `;\n      div.appendChild(label);\n      const progress = document.createElement('progress');\n      progress.max = size;\n      div.appendChild(progress);\n      document.body.appendChild(div);\n\n      const buffers = [];\n      let downloaded = 0;\n\n      const channel = await google.colab.kernel.comms.open(id);\n      // Send a message to notify the kernel that we're ready.\n      channel.send({})\n\n      for await (const message of channel.messages) {\n        // Send a message to notify the kernel that we're ready.\n        channel.send({})\n        if (message.buffers) {\n          for (const buffer of message.buffers) {\n            buffers.push(buffer);\n            downloaded += buffer.byteLength;\n            progress.value = downloaded;\n          }\n        }\n      }\n      const blob = new Blob(buffers, {type: 'application/binary'});\n      const a = document.createElement('a');\n      a.href = window.URL.createObjectURL(blob);\n      a.download = filename;\n      div.appendChild(a);\n      a.click();\n      div.remove();\n    }\n  ",
            "text/plain": [
              "<IPython.core.display.Javascript object>"
            ]
          },
          "metadata": {},
          "output_type": "display_data"
        },
        {
          "data": {
            "application/javascript": "download(\"download_cacec783-5933-4058-bdfa-242dd9a6d398\", \"fnd_tfidf_vectorizer.pkl\", 2432258)",
            "text/plain": [
              "<IPython.core.display.Javascript object>"
            ]
          },
          "metadata": {},
          "output_type": "display_data"
        },
        {
          "data": {
            "application/javascript": "\n    async function download(id, filename, size) {\n      if (!google.colab.kernel.accessAllowed) {\n        return;\n      }\n      const div = document.createElement('div');\n      const label = document.createElement('label');\n      label.textContent = `Downloading \"${filename}\": `;\n      div.appendChild(label);\n      const progress = document.createElement('progress');\n      progress.max = size;\n      div.appendChild(progress);\n      document.body.appendChild(div);\n\n      const buffers = [];\n      let downloaded = 0;\n\n      const channel = await google.colab.kernel.comms.open(id);\n      // Send a message to notify the kernel that we're ready.\n      channel.send({})\n\n      for await (const message of channel.messages) {\n        // Send a message to notify the kernel that we're ready.\n        channel.send({})\n        if (message.buffers) {\n          for (const buffer of message.buffers) {\n            buffers.push(buffer);\n            downloaded += buffer.byteLength;\n            progress.value = downloaded;\n          }\n        }\n      }\n      const blob = new Blob(buffers, {type: 'application/binary'});\n      const a = document.createElement('a');\n      a.href = window.URL.createObjectURL(blob);\n      a.download = filename;\n      div.appendChild(a);\n      a.click();\n      div.remove();\n    }\n  ",
            "text/plain": [
              "<IPython.core.display.Javascript object>"
            ]
          },
          "metadata": {},
          "output_type": "display_data"
        },
        {
          "data": {
            "application/javascript": "download(\"download_4985301f-082b-4234-ae5a-ad235d1f1c5f\", \"fnd_tfidf_matrix.pkl\", 61469963)",
            "text/plain": [
              "<IPython.core.display.Javascript object>"
            ]
          },
          "metadata": {},
          "output_type": "display_data"
        }
      ],
      "source": [
        "# # Step 1: Save vectorizer and matrix\n",
        "# import joblib\n",
        "\n",
        "# joblib.dump(vectorizer, 'fnd_tfidf_vectorizer.pkl')\n",
        "# joblib.dump(X, 'fnd_tfidf_matrix.pkl')\n",
        "# # Step 2: Download both files to your system\n",
        "# from google.colab import files\n",
        "\n",
        "# files.download('fnd_tfidf_vectorizer.pkl')\n",
        "# files.download('fnd_tfidf_matrix.pkl')\n"
      ]
    },
    {
      "cell_type": "code",
      "execution_count": 2,
      "metadata": {
        "id": "tB9nsexemHrN"
      },
      "outputs": [
        {
          "ename": "NameError",
          "evalue": "name 'X' is not defined",
          "output_type": "error",
          "traceback": [
            "\u001b[1;31m---------------------------------------------------------------------------\u001b[0m",
            "\u001b[1;31mNameError\u001b[0m                                 Traceback (most recent call last)",
            "Cell \u001b[1;32mIn[2], line 11\u001b[0m\n\u001b[0;32m      7\u001b[0m \u001b[38;5;28;01mfrom\u001b[39;00m \u001b[38;5;21;01msklearn\u001b[39;00m\u001b[38;5;21;01m.\u001b[39;00m\u001b[38;5;21;01mmetrics\u001b[39;00m \u001b[38;5;28;01mimport\u001b[39;00m accuracy_score, classification_report, confusion_matrix\n\u001b[0;32m     10\u001b[0m \u001b[38;5;66;03m# 2. Train-Test Split (80-20 split)\u001b[39;00m\n\u001b[1;32m---> 11\u001b[0m X_train, X_test, y_train, y_test \u001b[38;5;241m=\u001b[39m train_test_split(\u001b[43mX\u001b[49m, Y, test_size\u001b[38;5;241m=\u001b[39m\u001b[38;5;241m0.2\u001b[39m, random_state\u001b[38;5;241m=\u001b[39m\u001b[38;5;241m42\u001b[39m)\n\u001b[0;32m     15\u001b[0m \u001b[38;5;66;03m# 4. Define base models for stacking\u001b[39;00m\n\u001b[0;32m     16\u001b[0m estimators \u001b[38;5;241m=\u001b[39m [\n\u001b[0;32m     17\u001b[0m     (\u001b[38;5;124m'\u001b[39m\u001b[38;5;124mlr\u001b[39m\u001b[38;5;124m'\u001b[39m, LogisticRegression()),  \u001b[38;5;66;03m# Logistic Regression\u001b[39;00m\n\u001b[0;32m     18\u001b[0m     (\u001b[38;5;124m'\u001b[39m\u001b[38;5;124msvc\u001b[39m\u001b[38;5;124m'\u001b[39m, SVC(probability\u001b[38;5;241m=\u001b[39m\u001b[38;5;28;01mTrue\u001b[39;00m, kernel\u001b[38;5;241m=\u001b[39m\u001b[38;5;124m'\u001b[39m\u001b[38;5;124mlinear\u001b[39m\u001b[38;5;124m'\u001b[39m)),  \u001b[38;5;66;03m# Support Vector Classifier\u001b[39;00m\n\u001b[0;32m     19\u001b[0m     (\u001b[38;5;124m'\u001b[39m\u001b[38;5;124mdt\u001b[39m\u001b[38;5;124m'\u001b[39m, DecisionTreeClassifier()),  \u001b[38;5;66;03m# Decision Tree\u001b[39;00m\n\u001b[0;32m     20\u001b[0m     (\u001b[38;5;124m'\u001b[39m\u001b[38;5;124mnb\u001b[39m\u001b[38;5;124m'\u001b[39m, MultinomialNB())  \u001b[38;5;66;03m# Naive Bayes\u001b[39;00m\n\u001b[0;32m     21\u001b[0m ]\n",
            "\u001b[1;31mNameError\u001b[0m: name 'X' is not defined"
          ]
        }
      ],
      "source": [
        "from sklearn.model_selection import train_test_split\n",
        "from sklearn.ensemble import StackingClassifier\n",
        "from sklearn.linear_model import LogisticRegression\n",
        "from sklearn.svm import SVC\n",
        "from sklearn.tree import DecisionTreeClassifier\n",
        "from sklearn.naive_bayes import MultinomialNB\n",
        "from sklearn.metrics import accuracy_score, classification_report, confusion_matrix\n",
        "\n",
        "\n",
        "# 2. Train-Test Split (80-20 split)\n",
        "X_train, X_test, y_train, y_test = train_test_split(X, Y, test_size=0.2, random_state=42)\n",
        "\n",
        "\n",
        "\n",
        "# 4. Define base models for stacking\n",
        "estimators = [\n",
        "    ('lr', LogisticRegression()),  # Logistic Regression\n",
        "    ('svc', SVC(probability=True, kernel='linear')),  # Support Vector Classifier\n",
        "    ('dt', DecisionTreeClassifier()),  # Decision Tree\n",
        "    ('nb', MultinomialNB())  # Naive Bayes\n",
        "]\n",
        "\n",
        "# 5. Meta-classifier (Logistic Regression)\n",
        "meta_model = LogisticRegression()\n",
        "\n",
        "# 6. Create the Stacking Classifier\n",
        "stacking_clf = StackingClassifier(estimators=estimators, final_estimator=meta_model, cv=5)\n",
        "\n",
        "# 7. Train the Stacking Classifier\n",
        "stacking_clf.fit(X_train, y_train)\n",
        "\n",
        "\n",
        "  "
      ]
    },
    {
      "cell_type": "code",
      "execution_count": null,
      "metadata": {
        "id": "HJfJLFLBnC7Q"
      },
      "outputs": [
        {
          "name": "stdout",
          "output_type": "stream",
          "text": [
            "Accuracy: 0.9701923076923077\n",
            "\n",
            "Classification Report:\n",
            "               precision    recall  f1-score   support\n",
            "\n",
            "           0       0.97      0.97      0.97      2132\n",
            "           1       0.97      0.97      0.97      2028\n",
            "\n",
            "    accuracy                           0.97      4160\n",
            "   macro avg       0.97      0.97      0.97      4160\n",
            "weighted avg       0.97      0.97      0.97      4160\n",
            "\n",
            "\n",
            "Confusion Matrix:\n",
            " [[2077   55]\n",
            " [  69 1959]]\n"
          ]
        }
      ],
      "source": [
        "# 8. Predict on the test set\n",
        "y_pred = stacking_clf.predict(X_test)\n",
        "\n",
        "# 9. Evaluate the model\n",
        "print(\"Accuracy:\", accuracy_score(y_test, y_pred))\n",
        "print(\"\\nClassification Report:\\n\", classification_report(y_test, y_pred))\n",
        "print(\"\\nConfusion Matrix:\\n\", confusion_matrix(y_test, y_pred))"
      ]
    },
    {
      "cell_type": "code",
      "execution_count": 1,
      "metadata": {},
      "outputs": [
        {
          "ename": "NameError",
          "evalue": "name 'stacking_clf' is not defined",
          "output_type": "error",
          "traceback": [
            "\u001b[1;31m---------------------------------------------------------------------------\u001b[0m",
            "\u001b[1;31mNameError\u001b[0m                                 Traceback (most recent call last)",
            "Cell \u001b[1;32mIn[1], line 4\u001b[0m\n\u001b[0;32m      1\u001b[0m \u001b[38;5;28;01mimport\u001b[39;00m \u001b[38;5;21;01mjoblib\u001b[39;00m\n\u001b[0;32m      3\u001b[0m \u001b[38;5;66;03m# Save the stacking model\u001b[39;00m\n\u001b[1;32m----> 4\u001b[0m joblib\u001b[38;5;241m.\u001b[39mdump(\u001b[43mstacking_clf\u001b[49m, \u001b[38;5;124m'\u001b[39m\u001b[38;5;124mstacking_model.pkl\u001b[39m\u001b[38;5;124m'\u001b[39m)\n",
            "\u001b[1;31mNameError\u001b[0m: name 'stacking_clf' is not defined"
          ]
        }
      ],
      "source": [
        "import joblib\n",
        "\n",
        "# Save the stacking model\n",
        "joblib.dump(stacking_clf, 'stacking_model.pkl')"
      ]
    },
    {
      "cell_type": "markdown",
      "metadata": {},
      "source": []
    },
    {
      "cell_type": "code",
      "execution_count": null,
      "metadata": {},
      "outputs": [],
      "source": [
        "\n"
      ]
    },
    {
      "cell_type": "code",
      "execution_count": 12,
      "metadata": {},
      "outputs": [
        {
          "data": {
            "text/plain": [
              "['vectorizer.pkl']"
            ]
          },
          "execution_count": 12,
          "metadata": {},
          "output_type": "execute_result"
        }
      ],
      "source": [
        "import joblib\n",
        "\n",
        "joblib.dump(vectorizer, \"vectorizer.pkl\")\n",
        "\n",
        "\n"
      ]
    },
    {
      "cell_type": "code",
      "execution_count": 10,
      "metadata": {},
      "outputs": [
        {
          "ename": "NameError",
          "evalue": "name 'X_test' is not defined",
          "output_type": "error",
          "traceback": [
            "\u001b[1;31m---------------------------------------------------------------------------\u001b[0m",
            "\u001b[1;31mNameError\u001b[0m                                 Traceback (most recent call last)",
            "Cell \u001b[1;32mIn[10], line 7\u001b[0m\n\u001b[0;32m      4\u001b[0m model \u001b[38;5;241m=\u001b[39m joblib\u001b[38;5;241m.\u001b[39mload(\u001b[38;5;124m'\u001b[39m\u001b[38;5;124mstacking_model.pkl\u001b[39m\u001b[38;5;124m'\u001b[39m)\n\u001b[0;32m      6\u001b[0m \u001b[38;5;66;03m# Use it to make predictions\u001b[39;00m\n\u001b[1;32m----> 7\u001b[0m y_pred \u001b[38;5;241m=\u001b[39m model\u001b[38;5;241m.\u001b[39mpredict(\u001b[43mX_test\u001b[49m)  \u001b[38;5;66;03m# X_test must be prepared the same way as during training\u001b[39;00m\n\u001b[0;32m      9\u001b[0m \u001b[38;5;66;03m# Optional: evaluate if y_test is available\u001b[39;00m\n\u001b[0;32m     10\u001b[0m \u001b[38;5;28;01mfrom\u001b[39;00m \u001b[38;5;21;01msklearn\u001b[39;00m\u001b[38;5;21;01m.\u001b[39;00m\u001b[38;5;21;01mmetrics\u001b[39;00m \u001b[38;5;28;01mimport\u001b[39;00m accuracy_score\n",
            "\u001b[1;31mNameError\u001b[0m: name 'X_test' is not defined"
          ]
        }
      ],
      "source": [
        "import joblib\n",
        "\n",
        "# Load the trained stacking model\n",
        "model = joblib.load('stacking_model.pkl')\n",
        "\n",
        "# Use it to make predictions\n",
        "y_pred = model.predict(X_test)  # X_test must be prepared the same way as during training\n",
        "\n",
        "# Optional: evaluate if y_test is available\n",
        "from sklearn.metrics import accuracy_score\n",
        "print(\"Accuracy:\", accuracy_score(y_test, y_pred))"
      ]
    },
    {
      "cell_type": "code",
      "execution_count": null,
      "metadata": {},
      "outputs": [],
      "source": []
    }
  ],
  "metadata": {
    "colab": {
      "provenance": []
    },
    "kernelspec": {
      "display_name": "Python 3",
      "name": "python3"
    },
    "language_info": {
      "codemirror_mode": {
        "name": "ipython",
        "version": 3
      },
      "file_extension": ".py",
      "mimetype": "text/x-python",
      "name": "python",
      "nbconvert_exporter": "python",
      "pygments_lexer": "ipython3",
      "version": "3.11.6"
    }
  },
  "nbformat": 4,
  "nbformat_minor": 0
}
